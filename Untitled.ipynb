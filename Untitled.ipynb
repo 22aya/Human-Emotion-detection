{
 "cells": [
  {
   "cell_type": "code",
   "execution_count": null,
   "id": "af6b6b69",
   "metadata": {},
   "outputs": [],
   "source": [
    "import cv2\n",
    "import os\n",
    "import numpy as np\n",
    "\n",
    "data_path = 'D:\\\\CK+48\\CK+48'\n",
    "data_list = os.listdir(data_path)\n",
    "\n",
    "img_data = []  \n",
    "\n",
    "for dataset in data_list:\n",
    "    img_list = os.listdir(os.path.join(data_path, dataset))\n",
    "    print('Loading images from the folder - {}\\n'.format(dataset))\n",
    "    for img in img_list:\n",
    "        try:\n",
    "            input_img = cv2.imread(os.path.join(data_path, dataset, img))\n",
    "            if input_img is not None:  # Check if image was successfully loaded\n",
    "                input_img_resized = cv2.resize(input_img, (48, 48))\n",
    "                img_data.append(input_img_resized)\n",
    "            else:\n",
    "                print(f\"Failed to load image: {img}\")\n",
    "        except Exception as e:\n",
    "            print(f\"Error loading image: {img}, {e}\")\n",
    "\n",
    "# Convert img_data to numpy array\n",
    "data = np.array(img_data, dtype='float32')\n",
    "data = data / 255.0  # Normalize pixel values\n",
    "print(data.shape)\n",
    "\n"
   ]
  },
  {
   "cell_type": "markdown",
   "id": "62221628",
   "metadata": {},
   "source": [
    "# preparing the data:"
   ]
  },
  {
   "cell_type": "code",
   "execution_count": null,
   "id": "df5e1c71",
   "metadata": {},
   "outputs": [],
   "source": [
    "from sklearn.utils import shuffle\n",
    "import numpy as np\n",
    "from sklearn.model_selection import train_test_split\n",
    "\n",
    "num_classes = len(data_list)\n",
    "num_samples = data.shape[0]\n",
    "\n",
    "# One hot vector\n",
    "labels = np.ones((num_samples,), dtype='int64')\n",
    "\n",
    "labels[0:135] = 0  # 135 (anger)\n",
    "labels[135:189] = 1  # 54 (contempt)\n",
    "labels[189:366] = 2  # 177 (disgust)\n",
    "labels[366:441] = 3  # 75 (fear)\n",
    "labels[441:648] = 4  # 207 (happy)\n",
    "labels[648:732] = 5  # 84 (sadness)\n",
    "labels[732:981] = 6  # 249 (surprise)\n",
    "\n",
    "names = data_list\n",
    "img_labels = np.eye(num_classes)[labels]\n",
    "\n",
    "# Shuffle the data\n",
    "X_img, Y_img = shuffle(data, img_labels, random_state=2)\n",
    "\n",
    "# Preparing the data for train & test data\n",
    "X_train, X_test, Y_train, Y_test = train_test_split(X_img, Y_img, test_size=0.2, random_state=2)\n"
   ]
  },
  {
   "cell_type": "markdown",
   "id": "e0ce03b7",
   "metadata": {},
   "source": [
    "# show some samples of images"
   ]
  },
  {
   "cell_type": "code",
   "execution_count": null,
   "id": "da7651ea",
   "metadata": {
    "scrolled": true
   },
   "outputs": [],
   "source": [
    "import matplotlib.pyplot as plt\n",
    "import numpy as np\n",
    "\n",
    "plt.figure(figsize=(20, 20))\n",
    "for i, j in enumerate(list(np.random.randint(0, len(X_img), 36))):\n",
    "    plt.subplot(6, 6, i+1)\n",
    "    plt.imshow(X_img[j])\n",
    "    plt.axis('off')\n",
    "    #plt.title(names[np.argmax(Y_img[j])])\n",
    "    plt.title(names[np.argmax(Y_img[j])])\n",
    "\n",
    "names[list(Y_img[0],astype(int)).index(1)] \n",
    "\n",
    "\n"
   ]
  },
  {
   "cell_type": "code",
   "execution_count": null,
   "id": "559bf542",
   "metadata": {},
   "outputs": [],
   "source": []
  },
  {
   "cell_type": "code",
   "execution_count": null,
   "id": "4b41e3d3",
   "metadata": {},
   "outputs": [],
   "source": [
    "from tensorflow.keras.models import Sequential\n",
    "from tensorflow.keras.layers import Dense, Dropout, Activation, Flatten\n",
    "from tensorflow.keras.layers import Conv2D, MaxPooling2D\n",
    "\n",
    "def create_model():\n",
    "    input_shape = (48, 48, 3)\n",
    "    \n",
    "    model = Sequential()\n",
    "    model.add(Conv2D(6, (5, 5), input_shape=input_shape, padding='same', activation='relu'))\n",
    "    model.add(MaxPooling2D(pool_size=(2, 2)))\n",
    "    \n",
    "    \n",
    "    model.add(Conv2D(16, (5, 5), padding='same', activation='relu'))\n",
    "    model.add(MaxPooling2D(pool_size=(2, 2)))\n",
    "    \n",
    "    model.add(Conv2D(64, (3, 3), padding='same', activation='relu'))\n",
    "    model.add(MaxPooling2D(pool_size=(2, 2)))\n",
    "    \n",
    "    model.add(Flatten())\n",
    "    model.add(Dense(128, activation='relu'))\n",
    "    model.add(Dropout(0.5))\n",
    "    model.add(Dense(10, activation='softmax'))  # Adjust the number of units to match your classification task\n",
    "    \n",
    "    model.compile(loss='categorical_crossentropy', metrics=['accuracy'], optimizer='adam')\n",
    "    \n",
    "\n",
    "    \n",
    "\n",
    "\n",
    "    \n",
    "    return model\n"
   ]
  },
  {
   "cell_type": "code",
   "execution_count": null,
   "id": "557b97b4",
   "metadata": {},
   "outputs": [],
   "source": [
    "model=create_model()\n",
    "model.summary() \n"
   ]
  },
  {
   "cell_type": "code",
   "execution_count": null,
   "id": "777da68a",
   "metadata": {},
   "outputs": [],
   "source": [
    "\n",
    "history = model.fit(X_train, Y_train, epochs=200, validation_data=(X_test, Y_test))\n"
   ]
  },
  {
   "cell_type": "code",
   "execution_count": null,
   "id": "2c1ab2e0",
   "metadata": {},
   "outputs": [],
   "source": [
    "loss, score = model.evaluate(X_test,Y_test,verbose=0)\n",
    "print('the accurce for testing :%f' % (score *100))\n",
    "def predict_sample(index):\n",
    "    Y_predict=model.predict(X_test[index:index+1])\n",
    "    plt.imshow(X_test[index])\n",
    "    plt.title(names[list(Y_predict.astype(int).flatten()).index(1)])\n",
    "    \n",
    "    \n",
    "    \n",
    "    \n",
    "predict_sample(1)\n",
    "#print(names[list(Y_test[80]).index(1)])\n",
    "\n"
   ]
  },
  {
   "cell_type": "code",
   "execution_count": null,
   "id": "5d7b4015",
   "metadata": {},
   "outputs": [],
   "source": []
  }
 ],
 "metadata": {
  "kernelspec": {
   "display_name": "Python 3 (ipykernel)",
   "language": "python",
   "name": "python3"
  },
  "language_info": {
   "codemirror_mode": {
    "name": "ipython",
    "version": 3
   },
   "file_extension": ".py",
   "mimetype": "text/x-python",
   "name": "python",
   "nbconvert_exporter": "python",
   "pygments_lexer": "ipython3",
   "version": "3.9.13"
  }
 },
 "nbformat": 4,
 "nbformat_minor": 5
}
